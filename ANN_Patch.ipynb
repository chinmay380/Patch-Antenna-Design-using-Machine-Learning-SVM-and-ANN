{
  "cells": [
    {
      "cell_type": "code",
      "execution_count": null,
      "metadata": {
        "id": "mahgSNf_Oheg"
      },
      "outputs": [],
      "source": [
        "import pandas as pd\n",
        "import numpy as np\n",
        "import keras\n",
        "from keras.models import Sequential\n",
        "from keras.layers import Dense\n"
      ]
    },
    {
      "cell_type": "code",
      "execution_count": null,
      "metadata": {
        "id": "iEzPizSVPNg6"
      },
      "outputs": [],
      "source": [
        "dataset = pd.read_csv('PATCH_DATASET.csv')"
      ]
    },
    {
      "cell_type": "code",
      "execution_count": null,
      "metadata": {
        "id": "mPvm2jvwPTRI"
      },
      "outputs": [],
      "source": [
        "X = dataset.iloc[:, :4]  # Input features (Substrate height, Permittivity, Width, Length)\n",
        "y = dataset.iloc[:, 4:]  # Output targets (S11, Directivity, Gain)"
      ]
    },
    {
      "cell_type": "code",
      "execution_count": null,
      "metadata": {
        "id": "lsKPWBkjPWCA"
      },
      "outputs": [],
      "source": [
        "from sklearn.model_selection import train_test_split\n",
        "# Split the data into training and testing sets\n",
        "X_train, X_test, y_train, y_test = train_test_split(X, y, test_size=0.2, random_state=75)"
      ]
    },
    {
      "cell_type": "code",
      "execution_count": null,
      "metadata": {
        "colab": {
          "base_uri": "https://localhost:8080/"
        },
        "id": "SOuDrdRFhYZ_",
        "outputId": "981e7377-793e-4ef6-86ce-cfe1fb55c3c9"
      },
      "outputs": [
        {
          "name": "stdout",
          "output_type": "stream",
          "text": [
            "    epsilon    sh       w       l\n",
            "0       4.6  1.60  37.351  28.807\n",
            "1       4.6  1.00  37.551  29.007\n",
            "2       4.6  1.10  37.451  28.907\n",
            "3       4.6  1.20  37.651  29.107\n",
            "4       4.6  1.30  37.251  28.607\n",
            "..      ...   ...     ...     ...\n",
            "94      3.0  1.90  45.794  37.399\n",
            "95      3.0  1.95  45.994  37.599\n",
            "96      3.0  1.20  46.194  37.799\n",
            "97      3.0  2.00  46.194  37.799\n",
            "98      3.0  1.00  43.994  35.599\n",
            "\n",
            "[99 rows x 4 columns]\n",
            "       s11  directivity   gain  efficency\n",
            "0   30.691        6.163  1.385       33.3\n",
            "1   37.378        6.086  0.478       27.5\n",
            "2   59.204        6.098  0.660       28.6\n",
            "3   40.621        6.114  0.936       30.4\n",
            "4   35.741        6.122  0.899       30.0\n",
            "..     ...          ...    ...        ...\n",
            "94   4.080        6.627  5.042       69.4\n",
            "95   4.113        6.635  5.139       70.9\n",
            "96   3.553        6.566  4.969       69.2\n",
            "97   4.147        6.642  5.232       72.3\n",
            "98   3.429        6.511  3.762       53.1\n",
            "\n",
            "[99 rows x 4 columns]\n"
          ]
        }
      ],
      "source": [
        "#print(X)\n",
        "#print(y)"
      ]
    },
    {
      "cell_type": "code",
      "execution_count": null,
      "metadata": {
        "id": "nCHO60U37Y65"
      },
      "outputs": [],
      "source": [
        "#y_test"
      ]
    },
    {
      "cell_type": "code",
      "execution_count": null,
      "metadata": {
        "id": "DOhFX8-6fy4s"
      },
      "outputs": [],
      "source": [
        "from sklearn.preprocessing import StandardScaler\n",
        "# Feature Scaling\n",
        "scaler_x = StandardScaler()\n",
        "scaler_y = StandardScaler()\n",
        "X_train = scaler_x.fit_transform(X_train)\n",
        "X_test = scaler_x.transform(X_test)\n",
        "y_train = scaler_y.fit_transform(y_train)\n",
        "y_test = scaler_y.transform(y_test)"
      ]
    },
    {
      "cell_type": "code",
      "execution_count": null,
      "metadata": {
        "colab": {
          "background_save": true
        },
        "id": "7r9tm2-cf-nS"
      },
      "outputs": [],
      "source": [
        "#Building the Neural Network\n",
        "reg = Sequential()\n",
        "reg.add(Dense(units=4, kernel_initializer='he_uniform', activation='relu', input_dim=4))\n",
        "reg.add(Dense(units=18, kernel_initializer='he_uniform', activation='relu'))\n",
        "reg.add(Dense(units=4, kernel_initializer='he_uniform', activation='linear'))  # 4 output units for S11, Directivity, Gain, Efficiency"
      ]
    },
    {
      "cell_type": "code",
      "execution_count": null,
      "metadata": {
        "colab": {
          "background_save": true
        },
        "id": "fgLMFXzLUbrj"
      },
      "outputs": [],
      "source": [
        "reg.compile(optimizer='adam', loss='mean_absolute_error', metrics=['mse'])"
      ]
    },
    {
      "cell_type": "code",
      "execution_count": null,
      "metadata": {
        "id": "HL09yKFyhPuU"
      },
      "outputs": [],
      "source": [
        "model = reg.fit(X_train, y_train, validation_data=(X_test, y_test), epochs=500, verbose=0)"
      ]
    },
    {
      "cell_type": "code",
      "execution_count": null,
      "metadata": {
        "colab": {
          "base_uri": "https://localhost:8080/"
        },
        "id": "9F_Y2Uud05xW",
        "outputId": "34144430-5558-44a8-ca8c-4c8262add6ce"
      },
      "outputs": [
        {
          "name": "stdout",
          "output_type": "stream",
          "text": [
            "1/1 [==============================] - 0s 30ms/step - loss: 0.1226 - mse: 0.1722\n",
            "Loss function(mae) 0.12262222915887833\n",
            "Mean Square Error: 0.17223593592643738\n"
          ]
        }
      ],
      "source": [
        "# Model Evaluation\n",
        "loss, mse = reg.evaluate(X_test, y_test)\n",
        "print(\"Loss function(mae)\",loss)\n",
        "print(\"Mean Square Error:\", mse)"
      ]
    },
    {
      "cell_type": "code",
      "execution_count": null,
      "metadata": {
        "colab": {
          "base_uri": "https://localhost:8080/"
        },
        "id": "z9k_CtF0Dy9T",
        "outputId": "2d25f751-14df-4c39-f9f2-5e154e351a9e"
      },
      "outputs": [
        {
          "name": "stdout",
          "output_type": "stream",
          "text": [
            "1/1 [==============================] - 0s 55ms/step\n",
            "Predictions for Test Data:\n",
            "[[32.037933    6.196161    1.9378976  37.351673  ]\n",
            " [30.502232    6.166781    1.2886842  32.377277  ]\n",
            " [31.18738     6.1554685   1.1126742  31.094482  ]\n",
            " [ 6.839143    6.961292    5.154463   67.45484   ]\n",
            " [ 3.3217585   6.5273185   3.863015   53.6316    ]\n",
            " [ 6.837945    6.948167    5.077072   66.65141   ]\n",
            " [37.71094     6.0916233   0.74956375 29.297047  ]\n",
            " [31.756971    6.2025037   2.0045183  37.87626   ]\n",
            " [ 6.856303    7.1493278   6.2632003  78.965225  ]\n",
            " [ 4.056182    6.5656962   3.9346333  54.56688   ]\n",
            " [36.43837     6.1001506   0.683322   28.74118   ]\n",
            " [ 3.8002312   6.5268173   3.2501504  47.017876  ]\n",
            " [ 3.6258385   6.585108    5.000286   69.1267    ]\n",
            " [ 3.696952    6.5717316   4.2176986  58.49326   ]\n",
            " [ 3.344972    6.529432    3.7123623  52.32788   ]\n",
            " [ 6.840232    6.973223    5.224816   68.18521   ]\n",
            " [ 3.6526911   6.522926    3.5083263  50.171165  ]\n",
            " [ 3.6818402   6.5799675   4.354009   59.99763   ]\n",
            " [34.827694    6.1363583   1.2662666  32.354652  ]\n",
            " [33.84449     6.136981    0.80888945 29.255434  ]]\n"
          ]
        }
      ],
      "source": [
        "from keras.models import load_model\n",
        "# Making Predictions for test data\n",
        "predictions_test = reg.predict(X_test)\n",
        "predictions_test = scaler_y.inverse_transform(predictions_test)\n",
        "print(\"Predictions for Test Data:\")\n",
        "print(predictions_test)"
      ]
    },
    {
      "cell_type": "code",
      "execution_count": null,
      "metadata": {
        "colab": {
          "base_uri": "https://localhost:8080/"
        },
        "id": "-cZdHA4IpViU",
        "outputId": "ea3da69f-350e-48a8-d6fb-905c76925e8c"
      },
      "outputs": [
        {
          "name": "stdout",
          "output_type": "stream",
          "text": [
            "1/1 [==============================] - 0s 20ms/step\n",
            "Predicted Output for New Input:\n",
            "[[ 4.224085   6.6358414  5.122957  70.65471  ]]\n"
          ]
        },
        {
          "name": "stderr",
          "output_type": "stream",
          "text": [
            "/usr/local/lib/python3.10/dist-packages/sklearn/base.py:439: UserWarning: X does not have valid feature names, but StandardScaler was fitted with feature names\n",
            "  warnings.warn(\n"
          ]
        }
      ],
      "source": [
        "# Making Predictions for new input\n",
        "new_inputs = np.array([[3.0, 1.95, 45.994, 37.599]])  # Example inputs for prediction 4.113 6.635  5.139 70.9\n",
        "new_inputs_scaled = scaler_x.transform(new_inputs)\n",
        "predicted_output = reg.predict(new_inputs_scaled)\n",
        "predicted_output = scaler_y.inverse_transform(predicted_output)\n",
        "print(\"Predicted Output for New Input:\")\n",
        "print(predicted_output)"
      ]
    }
  ],
  "metadata": {
    "colab": {
      "provenance": []
    },
    "kernelspec": {
      "display_name": "Python 3",
      "name": "python3"
    },
    "language_info": {
      "name": "python"
    }
  },
  "nbformat": 4,
  "nbformat_minor": 0
}